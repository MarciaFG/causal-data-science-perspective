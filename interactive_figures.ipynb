{
 "cells": [
  {
   "cell_type": "markdown",
   "metadata": {},
   "source": [
    "# Quantifying causality using quasi-experiments interactive figures\n",
    "\n",
    "Below are companion interactive figures for the static inline figures shown in \"Quantifying causality using quasi-experiments.\"\n",
    "\n",
    "To run/refresh the interactive widgets, re-run the code cells: `Cell -> Run all`"
   ]
  },
  {
   "cell_type": "code",
   "execution_count": 1,
   "metadata": {},
   "outputs": [
    {
     "data": {
      "text/html": [
       "\n",
       "<script>\n",
       "  function code_toggle() {\n",
       "    if (code_shown){\n",
       "      $('div.input').hide('500');\n",
       "      $('#toggleButton').val('Show Code')\n",
       "    } else {\n",
       "      $('div.input').show('500');\n",
       "      $('#toggleButton').val('Hide Code')\n",
       "    }\n",
       "    code_shown = !code_shown\n",
       "  }\n",
       "\n",
       "  $( document ).ready(function(){\n",
       "    code_shown=false;\n",
       "    $('div.input').hide()\n",
       "  });\n",
       "</script>\n",
       "<form action=\"javascript:code_toggle()\"><input type=\"submit\" id=\"toggleButton\" value=\"Show Code\"></form>\n"
      ],
      "text/plain": [
       "<IPython.core.display.HTML object>"
      ]
     },
     "execution_count": 1,
     "metadata": {},
     "output_type": "execute_result"
    }
   ],
   "source": [
    "# Code hider, source: http://chris-said.io/2016/02/13/how-to-make-polished-jupyter-presentations-with-optional-code-visibility/\n",
    "from IPython.display import HTML\n",
    "\n",
    "HTML('''\n",
    "<script>\n",
    "  function code_toggle() {\n",
    "    if (code_shown){\n",
    "      $('div.input').hide('500');\n",
    "      $('#toggleButton').val('Show Code')\n",
    "    } else {\n",
    "      $('div.input').show('500');\n",
    "      $('#toggleButton').val('Hide Code')\n",
    "    }\n",
    "    code_shown = !code_shown\n",
    "  }\n",
    "\n",
    "  $( document ).ready(function(){\n",
    "    code_shown=false;\n",
    "    $('div.input').hide()\n",
    "  });\n",
    "</script>\n",
    "<form action=\"javascript:code_toggle()\"><input type=\"submit\" id=\"toggleButton\" value=\"Show Code\"></form>\n",
    "''')\n",
    "\n"
   ]
  },
  {
   "cell_type": "markdown",
   "metadata": {},
   "source": [
    "## Imports"
   ]
  },
  {
   "cell_type": "code",
   "execution_count": 2,
   "metadata": {
    "tags": [
     "remove-input"
    ]
   },
   "outputs": [],
   "source": [
    "import matplotlib.pyplot as plt\n",
    "from ipywidgets import interact_manual, IntSlider, FloatSlider\n",
    "\n",
    "from utils import *\n",
    "\n",
    "%matplotlib inline"
   ]
  },
  {
   "cell_type": "markdown",
   "metadata": {},
   "source": [
    "## Figure 2: Instrumental Variables"
   ]
  },
  {
   "cell_type": "markdown",
   "metadata": {},
   "source": [
    "You can use the \"x\" and \"y\" dropdowns to plot the relationship between any pair of four variables on the left-hand plot: the instrument $IV$, the treatment $X$, a confounder $Z$ and the outcome $Y$. The right-hand plot uses simulated data to display a density of treatment effect estimates made by both regression and instrumental variable analysis.\n",
    "\n",
    "You can use the sliders to adjust the effect of the confounder as well as violations of the exclusion restriction.\n",
    "Note that the IV estimates are unbiased (on average, they recover the correct treatment effect) regardless of the amount of confounding, while they become biased whenever the exclusion restriction fails."
   ]
  },
  {
   "cell_type": "code",
   "execution_count": 3,
   "metadata": {
    "scrolled": false,
    "tags": [
     "remove-input"
    ]
   },
   "outputs": [
    {
     "data": {
      "application/vnd.jupyter.widget-view+json": {
       "model_id": "1444cd1656f9410a838e914e8c87272b",
       "version_major": 2,
       "version_minor": 0
      },
      "text/plain": [
       "interactive(children=(Dropdown(description='x', options=('treatment', 'outcome', 'confounder', 'instrument'), …"
      ]
     },
     "metadata": {},
     "output_type": "display_data"
    }
   ],
   "source": [
    "n_samples = 500\n",
    "n_trials = 50\n",
    "x = 'treatment'\n",
    "y = 'outcome'\n",
    "iv_columns = ['treatment', 'outcome', 'confounder', 'instrument']\n",
    "treat_effect = 2\n",
    "confound_effect = 4\n",
    "instrument_str = 0.8\n",
    "confounder_str = 0.5\n",
    "\n",
    "style = {'description_width': 'initial'}\n",
    "confound_str_slider = FloatSlider(style=style, description=\"confound effect\", min=-1, max=1, value=0.5)\n",
    "exclusion_str_slider = FloatSlider(style=style, description=\"exclusion restriction effect\", min=-1, max=1, value=0)\n",
    "@interact_manual(x=iv_columns, y=iv_columns, \n",
    "                 confounder_str=confound_str_slider, \n",
    "                 exclusion_str=exclusion_str_slider)\n",
    "def show_iv_widget(x, y,  confounder_str, exclusion_str):\n",
    "    data_df = generate_iv_data(n_samples, treat_effect, confound_effect, instrument_str, confounder_str, exclusion_effect=exclusion_str)\n",
    "    fig, (ax1,ax2) = plt.subplots(1,2, figsize=(10,5))\n",
    "    \n",
    "    plot_iv_scatter(x, y, data_df, ax1)\n",
    "    plot_iv_dist(n_trials, n_samples, treat_effect, confound_effect, instrument_str, confounder_str, ax2, exclusion_effect=exclusion_str)\n",
    "    fig.suptitle(\"Figure 2: Instrumental Variable Interactive Widget\")\n",
    "    plt.xlim(-2,6)"
   ]
  },
  {
   "cell_type": "markdown",
   "metadata": {},
   "source": [
    "---"
   ]
  },
  {
   "cell_type": "markdown",
   "metadata": {},
   "source": [
    "## Figure 3: Regression Discontinuity Design"
   ]
  },
  {
   "cell_type": "markdown",
   "metadata": {},
   "source": [
    "The left-hand plot shows the relationship between the running variable $R$ and the outcome $Y$, highlighting the bandwidth of data points in red used to estimate the local regressions above and below the threshold. The right-hand plot uses simulated data to display a density of treatment effect estimates made by both regression and regression discontinuity design analysis.\n",
    "\n",
    "You can use the sliders to adjust the bandwidth size, and also use the dropdown to indicate whether the relationship between $R$ and $Y$ is linear or nonlinear. Note that larger bandwidths increase the precision of the treatment effect estimates, but risk biasing the estimates when the relationship between $R$ and $Y$ is nonlinear."
   ]
  },
  {
   "cell_type": "code",
   "execution_count": 4,
   "metadata": {
    "scrolled": false,
    "tags": [
     "remove-input"
    ]
   },
   "outputs": [
    {
     "data": {
      "application/vnd.jupyter.widget-view+json": {
       "model_id": "e71e7b065b544e55bdbc34991527fe53",
       "version_major": 2,
       "version_minor": 0
      },
      "text/plain": [
       "interactive(children=(FloatSlider(value=1.0, description='bandwidth', max=10.0, min=0.5, style=SliderStyle(des…"
      ]
     },
     "metadata": {},
     "output_type": "display_data"
    }
   ],
   "source": [
    "n_samples = 500\n",
    "n_trials = 50\n",
    "treat_effect = 15\n",
    "confound_effect = 3\n",
    "C_R = 0.3\n",
    "\n",
    "style = {'description_width': 'initial'}\n",
    "rdd_columns = [\"treat\", \"confound\", \"running\", \"outcome\"]\n",
    "bandwidth_slider = FloatSlider(style=style, description=\"bandwidth\",min=0.5, max=10, value=1)\n",
    "@interact_manual(bandwidth=bandwidth_slider,\n",
    "                 nonlinear=[False,True])\n",
    "def show_rdd_widget(bandwidth, nonlinear):\n",
    "    x=\"running\"\n",
    "    y=\"outcome\"\n",
    "    rdd_df = generate_rdd_data(n_samples, treat_effect, confound_effect, C_R, nonlinear=nonlinear)\n",
    "    fig, (ax1,ax2) = plt.subplots(1,2, figsize=(10,5))\n",
    "    \n",
    "    plot_rdd_scatter(x, y, rdd_df, bandwidth, treat_effect, ax1)\n",
    "    plot_rdd_dist(n_trials, n_samples, treat_effect, confound_effect, C_R, bandwidth, ax2, nonlinear=nonlinear)\n",
    "    fig.suptitle(\"Regression Discontinuity Design Interactive Widget\")\n",
    "    ax1.set_ylim(-30-treat_effect, 30 + treat_effect)\n",
    "    ax2.set_xlim(treat_effect-30, 30 + treat_effect)\n"
   ]
  },
  {
   "cell_type": "markdown",
   "metadata": {},
   "source": [
    "---"
   ]
  },
  {
   "cell_type": "markdown",
   "metadata": {},
   "source": [
    "## Figure 4: Difference-in-differences"
   ]
  },
  {
   "cell_type": "markdown",
   "metadata": {},
   "source": [
    "The left-hand plot shows the outcome $Y$ for both the treated and control groups over time, with the treatment $X$ applied to the treated group to the right of the dotted line. The right-hand plot uses simulated data to display a density of treatment effect estimates made by both a single difference (in the treated group outcomes) estimate and difference-in-differences analysis.\n",
    "\n",
    "You can use the slider to adjust the effect of parallel trends, which is the time effect ratio between the treated and control groups. Note that the parallel trends assumption holds when this ratio is 1, and that the treatment effect estimates become biased when this assumption is violated."
   ]
  },
  {
   "cell_type": "code",
   "execution_count": 5,
   "metadata": {
    "tags": [
     "remove-input"
    ]
   },
   "outputs": [
    {
     "data": {
      "application/vnd.jupyter.widget-view+json": {
       "model_id": "b5fdc7e50e944bd48c1ef724527d2659",
       "version_major": 2,
       "version_minor": 0
      },
      "text/plain": [
       "interactive(children=(FloatSlider(value=1.0, description='parallel trends effect', max=2.0, style=SliderStyle(…"
      ]
     },
     "metadata": {},
     "output_type": "display_data"
    }
   ],
   "source": [
    "n_samples = 500\n",
    "seed = 42\n",
    "time_effect = 2\n",
    "time_ratio = 0.2\n",
    "treat_time_effect = time_effect\n",
    "control_time_effect = time_effect * time_ratio\n",
    "\n",
    "control_offset = -2\n",
    "treat_effect = 2\n",
    "\n",
    "time_ratio_slider = FloatSlider(style=style, description=\"parallel trends effect\", min=0, max=2, value=1)\n",
    "\n",
    "@interact_manual(time_ratio=time_ratio_slider)\n",
    "def show_did_widget(time_ratio):\n",
    "    treat_time_effect = time_effect\n",
    "    control_time_effect = time_effect * time_ratio\n",
    "    did_df = generate_did_data(n_samples, treat_time_effect, control_time_effect, control_offset, treat_effect, seed=42)\n",
    "    \n",
    "    fig, (ax1,ax2) = plt.subplots(1,2, figsize=(10,5))\n",
    "    plot_did_scatter(did_df, ax1)\n",
    "    plot_did_dist(n_trials, n_samples, treat_time_effect, control_time_effect, control_offset, treat_effect, ax2)\n",
    "    fig.suptitle(\"Difference in Difference Interactive Widget\")\n",
    "    ax2.set_xlim(-14, 18)"
   ]
  }
 ],
 "metadata": {
  "hide_input": false,
  "kernelspec": {
   "display_name": "Python 3",
   "language": "python",
   "name": "python3"
  },
  "language_info": {
   "codemirror_mode": {
    "name": "ipython",
    "version": 3
   },
   "file_extension": ".py",
   "mimetype": "text/x-python",
   "name": "python",
   "nbconvert_exporter": "python",
   "pygments_lexer": "ipython3",
   "version": "3.7.3"
  }
 },
 "nbformat": 4,
 "nbformat_minor": 2
}
