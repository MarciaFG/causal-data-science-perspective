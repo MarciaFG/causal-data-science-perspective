{
 "cells": [
  {
   "cell_type": "markdown",
   "metadata": {},
   "source": [
    "# Causality for data science using quasi-experiments interactive figures\n",
    "\n",
    "Below are companion interactive figures for the static inline figures shown in \"Causality for data science using quasi-experiments.\"\n",
    "\n",
    "Another notebook with more comprehensive interactions can be found here: TODO"
   ]
  },
  {
   "cell_type": "markdown",
   "metadata": {},
   "source": [
    "## Imports"
   ]
  },
  {
   "cell_type": "code",
   "execution_count": 1,
   "metadata": {},
   "outputs": [],
   "source": [
    "import matplotlib.pyplot as plt\n",
    "from ipywidgets import interact_manual, IntSlider, FloatSlider\n",
    "\n",
    "from utils import *\n",
    "\n",
    "%matplotlib inline"
   ]
  },
  {
   "cell_type": "markdown",
   "metadata": {},
   "source": [
    "## Figure 2: Instrumental Variables"
   ]
  },
  {
   "cell_type": "code",
   "execution_count": 2,
   "metadata": {},
   "outputs": [
    {
     "data": {
      "application/vnd.jupyter.widget-view+json": {
       "model_id": "6a438a816ba04da2ac4a591166bd3823",
       "version_major": 2,
       "version_minor": 0
      },
      "text/plain": [
       "interactive(children=(Dropdown(description='x', options=('treatment', 'outcome', 'confounder', 'instrument'), …"
      ]
     },
     "metadata": {},
     "output_type": "display_data"
    }
   ],
   "source": [
    "n_samples = 500\n",
    "n_trials = 50\n",
    "x = 'treatment'\n",
    "y = 'outcome'\n",
    "iv_columns = ['treatment', 'outcome', 'confounder', 'instrument']\n",
    "treat_effect = 2\n",
    "confound_effect = 4\n",
    "instrument_str = 0.8\n",
    "confounder_str = 0.5\n",
    "\n",
    "style = {'description_width': 'initial'}\n",
    "confound_str_slider = FloatSlider(style=style, description=\"confound effect\", min=-1, max=1, value=0.5)\n",
    "exclusion_str_slider = FloatSlider(style=style, description=\"exclusion restriction effect\", min=-1, max=1, value=0)\n",
    "@interact_manual(x=iv_columns, y=iv_columns, \n",
    "                 confounder_str=confound_str_slider, \n",
    "                 exclusion_str=exclusion_str_slider)\n",
    "def show_iv_widget(x, y,  confounder_str, exclusion_str):\n",
    "    data_df = generate_iv_data(n_samples, treat_effect, confound_effect, instrument_str, confounder_str, exclusion_effect=exclusion_str)\n",
    "    fig, (ax1,ax2) = plt.subplots(1,2, figsize=(10,5))\n",
    "    \n",
    "    plot_iv_scatter(x, y, data_df, ax1)\n",
    "    plot_iv_dist(n_trials, n_samples, treat_effect, confound_effect, instrument_str, confounder_str, ax2, exclusion_effect=exclusion_str)\n",
    "    fig.suptitle(\"Figure 2: Instrumental Variable Interactive Widget\")\n",
    "    plt.xlim(-2,6)"
   ]
  },
  {
   "cell_type": "markdown",
   "metadata": {},
   "source": [
    "## Figure 3: Regression Discontinuity Design"
   ]
  },
  {
   "cell_type": "code",
   "execution_count": 3,
   "metadata": {
    "scrolled": false
   },
   "outputs": [
    {
     "data": {
      "application/vnd.jupyter.widget-view+json": {
       "model_id": "61499555491341e6b5d98c1cdd4c1117",
       "version_major": 2,
       "version_minor": 0
      },
      "text/plain": [
       "interactive(children=(FloatSlider(value=3.0, description='bandwidth', max=10.0, min=0.1, style=SliderStyle(des…"
      ]
     },
     "metadata": {},
     "output_type": "display_data"
    }
   ],
   "source": [
    "n_samples = 1000\n",
    "n_trials = 50\n",
    "treat_effect = 15\n",
    "confound_effect = 3\n",
    "C_R = 0.3\n",
    "\n",
    "style = {'description_width': 'initial'}\n",
    "rdd_columns = [\"treat\", \"confound\", \"running\", \"outcome\"]\n",
    "bandwidth_slider = FloatSlider(style=style, description=\"bandwidth\",min=0.1, max=10, value=3)\n",
    "@interact_manual(bandwidth=bandwidth_slider,\n",
    "                 nonlinear=[False,True])\n",
    "def show_rdd_widget(bandwidth, nonlinear):\n",
    "    x=\"running\"\n",
    "    y=\"outcome\"\n",
    "    rdd_df = generate_rdd_data(n_samples, treat_effect, confound_effect, C_R, nonlinear=nonlinear)\n",
    "    fig, (ax1,ax2) = plt.subplots(1,2, figsize=(10,5))\n",
    "    \n",
    "    plot_rdd_scatter(x, y, rdd_df, bandwidth, treat_effect, ax1)\n",
    "    plot_rdd_dist(n_trials, n_samples, treat_effect, confound_effect, C_R, bandwidth, ax2, nonlinear=nonlinear)\n",
    "    fig.suptitle(\"Regression Discontinuity Interactive Widget\")\n",
    "    ax1.set_ylim(-30-treat_effect, 30 + treat_effect)\n",
    "    ax2.set_xlim(treat_effect-30, 30 + treat_effect)\n"
   ]
  },
  {
   "cell_type": "markdown",
   "metadata": {},
   "source": [
    "## Figure 4: Differences in differences"
   ]
  },
  {
   "cell_type": "code",
   "execution_count": 10,
   "metadata": {},
   "outputs": [
    {
     "data": {
      "application/vnd.jupyter.widget-view+json": {
       "model_id": "1571b7419a3f4852b6ec6c1a4b64aa55",
       "version_major": 2,
       "version_minor": 0
      },
      "text/plain": [
       "interactive(children=(FloatSlider(value=1.0, description='parallel trends effect', max=2.0, style=SliderStyle(…"
      ]
     },
     "metadata": {},
     "output_type": "display_data"
    }
   ],
   "source": [
    "n_samples = 500\n",
    "seed = 42\n",
    "time_effect = 2\n",
    "time_ratio = 0.2\n",
    "treat_time_effect = time_effect\n",
    "control_time_effect = time_effect * time_ratio\n",
    "\n",
    "control_offset = -2\n",
    "treat_effect = 2\n",
    "\n",
    "time_ratio_slider = FloatSlider(style=style, description=\"parallel trends effect\", min=0, max=2, value=1)\n",
    "\n",
    "@interact_manual(time_ratio=time_ratio_slider)\n",
    "def show_did_widget(time_ratio):\n",
    "    treat_time_effect = time_effect\n",
    "    control_time_effect = time_effect * time_ratio\n",
    "    did_df = generate_did_data(n_samples, treat_time_effect, control_time_effect, control_offset, treat_effect, seed=42)\n",
    "    \n",
    "    fig, (ax1,ax2) = plt.subplots(1,2, figsize=(10,5))\n",
    "    plot_did_scatter(did_df, ax1)\n",
    "    plot_did_dist(n_trials, n_samples, treat_time_effect, control_time_effect, control_offset, treat_effect, ax2)\n",
    "    fig.suptitle(\"Difference in Difference Interactive Widget\")\n",
    "    ax2.set_xlim(-14, 18)"
   ]
  }
 ],
 "metadata": {
  "hide_input": true,
  "kernelspec": {
   "display_name": "Python 3",
   "language": "python",
   "name": "python3"
  },
  "language_info": {
   "codemirror_mode": {
    "name": "ipython",
    "version": 3
   },
   "file_extension": ".py",
   "mimetype": "text/x-python",
   "name": "python",
   "nbconvert_exporter": "python",
   "pygments_lexer": "ipython3",
   "version": "3.7.3"
  }
 },
 "nbformat": 4,
 "nbformat_minor": 2
}
